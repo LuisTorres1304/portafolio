{
 "cells": [
  {
   "cell_type": "code",
   "execution_count": 1,
   "id": "d5fca572",
   "metadata": {},
   "outputs": [],
   "source": [
    "import os\n",
    "import zipfile\n",
    "import pandas as pd\n",
    "import datetime\n",
    "import time\n",
    "\n",
    "pd.options.display.max_columns = 100 "
   ]
  },
  {
   "cell_type": "code",
   "execution_count": 2,
   "id": "34e834de",
   "metadata": {},
   "outputs": [],
   "source": [
    "ruta = 'C:/Users/Usuario/Proyectos_Anaconda/WORK LR/ARCHIVOS_ZIP'"
   ]
  },
  {
   "cell_type": "code",
   "execution_count": 3,
   "id": "1a56e3fe",
   "metadata": {},
   "outputs": [],
   "source": [
    "almacenar = []"
   ]
  },
  {
   "cell_type": "code",
   "execution_count": 4,
   "id": "acac50bc",
   "metadata": {},
   "outputs": [],
   "source": [
    "fechas =[]"
   ]
  },
  {
   "cell_type": "code",
   "execution_count": 5,
   "id": "1caee962",
   "metadata": {},
   "outputs": [],
   "source": [
    "origenes = []"
   ]
  },
  {
   "cell_type": "code",
   "execution_count": 6,
   "id": "57175110",
   "metadata": {},
   "outputs": [],
   "source": [
    "def leer_csv_en_zip(archivo_zip,origen):\n",
    "    with zipfile.ZipFile(archivo_zip, \"r\") as zip_ref:\n",
    "\n",
    "        for nombre_archivo in zip_ref.namelist():\n",
    "            if nombre_archivo.endswith(\".csv\")and \"sumario\" in nombre_archivo.lower():\n",
    "                with zip_ref.open(nombre_archivo) as archivo_csv:\n",
    "                    df = pd.read_csv(archivo_csv, dtype= {'TELEFONO_CELULAR1':object,'TELEFONO_CELULAR2':object,\n",
    "                                    'TELEFONO_CELULAR3':object,'TELEFONO_CELULAR4':object,'TELEFONO_FIJO1':object,\n",
    "                                    'TELEFONO_FIJO2':object,'TELEFONO_FIJO3':object,'TELEFONO_FIJO4':object})\n",
    "                    df[\"origen\"] = origen\n",
    "                    origenes.append(origen)\n",
    "                    almacenar.append(df)\n",
    "        "
   ]
  },
  {
   "cell_type": "code",
   "execution_count": 7,
   "id": "d39833d1",
   "metadata": {},
   "outputs": [],
   "source": [
    "for archivo_zip in os.listdir(ruta):\n",
    "    if archivo_zip.endswith(\".zip\"):\n",
    "        ruta_completa_zip = os.path.join(ruta, archivo_zip)\n",
    "        #print(ruta_completa_zip)\n",
    "        \n",
    "        leer_csv_en_zip(ruta_completa_zip, archivo_zip)\n",
    "        "
   ]
  },
  {
   "cell_type": "code",
   "execution_count": null,
   "id": "1c087d8d",
   "metadata": {},
   "outputs": [],
   "source": []
  },
  {
   "cell_type": "code",
   "execution_count": null,
   "id": "9a2605d6",
   "metadata": {},
   "outputs": [],
   "source": []
  },
  {
   "cell_type": "code",
   "execution_count": 8,
   "id": "62e1326b",
   "metadata": {},
   "outputs": [],
   "source": [
    "def fecha_del_zip(archivo_zip):\n",
    "\n",
    "    with zipfile.ZipFile(archivo_zip, 'r') as zip_ref:\n",
    "        for nombre_archivo in zip_ref.namelist():\n",
    "            for archivo_info in zip_ref.infolist():\n",
    "                if \"sumario\" in nombre_archivo.lower()  and nombre_archivo.endswith(\".csv\") :\n",
    "                    nombre_archivo = archivo_info.filename\n",
    "                    fecha_mo = time.mktime(archivo_info.date_time + (0, 0, -1))\n",
    "                    fecha_modi = time.strftime('%Y-%m-%d', time.localtime(fecha_mo))\n",
    "                    print(fecha_modi)\n",
    "                    fechas.append(fecha_modi)"
   ]
  },
  {
   "cell_type": "code",
   "execution_count": 9,
   "id": "eb5f2181",
   "metadata": {},
   "outputs": [
    {
     "name": "stdout",
     "output_type": "stream",
     "text": [
      "2024-02-29\n"
     ]
    }
   ],
   "source": [
    "for archivo_zip in os.listdir(ruta):\n",
    "    if archivo_zip.endswith(\".zip\"):\n",
    "        ruta_completa_zip = os.path.join(ruta, archivo_zip)\n",
    "        fecha_del_zip(ruta_completa_zip)"
   ]
  },
  {
   "cell_type": "code",
   "execution_count": 10,
   "id": "b6c2600b",
   "metadata": {},
   "outputs": [
    {
     "data": {
      "text/plain": [
       "['2024-02-29']"
      ]
     },
     "execution_count": 10,
     "metadata": {},
     "output_type": "execute_result"
    }
   ],
   "source": [
    "fechas"
   ]
  },
  {
   "cell_type": "code",
   "execution_count": 11,
   "id": "f2ee4b39",
   "metadata": {},
   "outputs": [
    {
     "data": {
      "text/plain": [
       "['Enriquecimiento cuil_enriquecer_I5_CERTERO_APP_29.02-SEGUNDO.zip']"
      ]
     },
     "execution_count": 11,
     "metadata": {},
     "output_type": "execute_result"
    }
   ],
   "source": [
    "origenes"
   ]
  },
  {
   "cell_type": "code",
   "execution_count": 12,
   "id": "30f51d17",
   "metadata": {},
   "outputs": [],
   "source": [
    "df_final = pd.concat(almacenar, ignore_index=True)\n"
   ]
  },
  {
   "cell_type": "code",
   "execution_count": 13,
   "id": "d198e3f2",
   "metadata": {},
   "outputs": [
    {
     "data": {
      "text/plain": [
       "['Enriquecimiento cuil_enriquecer_I5_CERTERO_APP_29.02-SEGUNDO.zip']"
      ]
     },
     "execution_count": 13,
     "metadata": {},
     "output_type": "execute_result"
    }
   ],
   "source": [
    "df_final['origen'].unique().tolist()"
   ]
  },
  {
   "cell_type": "code",
   "execution_count": 14,
   "id": "5bdb5704",
   "metadata": {},
   "outputs": [],
   "source": [
    "diccionario = dict(zip(origenes, fechas))"
   ]
  },
  {
   "cell_type": "code",
   "execution_count": 15,
   "id": "78e2ea8a",
   "metadata": {},
   "outputs": [],
   "source": [
    "df_final['Fecha_Archivo'] = df_final['origen'].map(diccionario)\n"
   ]
  },
  {
   "cell_type": "code",
   "execution_count": 16,
   "id": "ac9bc892",
   "metadata": {},
   "outputs": [
    {
     "data": {
      "text/plain": [
       "Index(['DOCUMENTO', 'CUIL', 'APELLIDO', 'NOMBRE', 'SEXO', 'FECHA_NAC',\n",
       "       'PADRON_DOMICILIO', 'PADRON_LOCALIDAD', 'PADRON_PROVINCIA',\n",
       "       'EMPLEADOR_RAZONSOCIAL', 'EMPLEADOR_CUIT', 'EMPLEADOR_SUELDO',\n",
       "       'EMPLEADOR_EMPLEADOS', 'TELEFONO_CELULAR1',\n",
       "       'TELEFONO_CELULAR1_OPERADOR', 'TELEFONO_CELULAR1_FUENTES',\n",
       "       'TELEFONO_CELULAR2', 'TELEFONO_CELULAR2_OPERADOR',\n",
       "       'TELEFONO_CELULAR2_FUENTES', 'TELEFONO_CELULAR3',\n",
       "       'TELEFONO_CELULAR3_OPERADOR', 'TELEFONO_CELULAR3_FUENTES',\n",
       "       'TELEFONO_CELULAR4', 'TELEFONO_CELULAR4_OPERADOR',\n",
       "       'TELEFONO_CELULAR4_FUENTES', 'TELEFONO_FIJO1',\n",
       "       'TELEFONO_FIJO1_OPERADOR', 'TELEFONO_FIJO1_FUENTES', 'TELEFONO_FIJO2',\n",
       "       'TELEFONO_FIJO2_OPERADOR', 'TELEFONO_FIJO2_FUENTES', 'TELEFONO_FIJO3',\n",
       "       'TELEFONO_FIJO3_OPERADOR', 'TELEFONO_FIJO3_FUENTES', 'TELEFONO_FIJO4',\n",
       "       'TELEFONO_FIJO4_OPERADOR', 'TELEFONO_FIJO4_FUENTES', 'EMAIL', 'EMAIL2',\n",
       "       'VEHICULO_DOMINIO', 'VEHICULO_MODELO', 'VEHICULO_AÑO',\n",
       "       'VEHICULO_DOMINIO2', 'VEHICULO_MODELO2', 'VEHICULO_AÑO2',\n",
       "       'PERSONALIZADO1', 'PERSONALIZADO2', 'PERSONALIZADO3', 'PERSONALIZADO4',\n",
       "       'PERSONALIZADO5', 'PERSONALIZADO6', 'PERSONALIZADO7', 'PERSONALIZADO8',\n",
       "       'PERSONALIZADO9', 'PERSONALIZADO10', 'PERSONALIZADO11',\n",
       "       'PERSONALIZADO12', 'PERSONALIZADO13', 'PERSONALIZADO14',\n",
       "       'PERSONALIZADO15', 'PERSONALIZADO16', 'origen', 'Fecha_Archivo'],\n",
       "      dtype='object')"
      ]
     },
     "execution_count": 16,
     "metadata": {},
     "output_type": "execute_result"
    }
   ],
   "source": [
    "df_final.columns"
   ]
  },
  {
   "cell_type": "code",
   "execution_count": 17,
   "id": "346666a1",
   "metadata": {
    "scrolled": true
   },
   "outputs": [],
   "source": [
    "resumen = df_final[['DOCUMENTO', 'CUIL','TELEFONO_CELULAR1','TELEFONO_CELULAR2',\n",
    "                                    'TELEFONO_CELULAR3','TELEFONO_CELULAR4','TELEFONO_FIJO1',\n",
    "                                    'TELEFONO_FIJO2','TELEFONO_FIJO3','TELEFONO_FIJO4','origen','Fecha_Archivo']]"
   ]
  },
  {
   "cell_type": "code",
   "execution_count": 18,
   "id": "58e78cbc",
   "metadata": {
    "scrolled": true
   },
   "outputs": [
    {
     "data": {
      "text/html": [
       "<div>\n",
       "<style scoped>\n",
       "    .dataframe tbody tr th:only-of-type {\n",
       "        vertical-align: middle;\n",
       "    }\n",
       "\n",
       "    .dataframe tbody tr th {\n",
       "        vertical-align: top;\n",
       "    }\n",
       "\n",
       "    .dataframe thead th {\n",
       "        text-align: right;\n",
       "    }\n",
       "</style>\n",
       "<table border=\"1\" class=\"dataframe\">\n",
       "  <thead>\n",
       "    <tr style=\"text-align: right;\">\n",
       "      <th></th>\n",
       "      <th>DOCUMENTO</th>\n",
       "      <th>CUIL</th>\n",
       "      <th>TELEFONO_CELULAR1</th>\n",
       "      <th>TELEFONO_CELULAR2</th>\n",
       "      <th>TELEFONO_CELULAR3</th>\n",
       "      <th>TELEFONO_CELULAR4</th>\n",
       "      <th>TELEFONO_FIJO1</th>\n",
       "      <th>TELEFONO_FIJO2</th>\n",
       "      <th>TELEFONO_FIJO3</th>\n",
       "      <th>TELEFONO_FIJO4</th>\n",
       "      <th>origen</th>\n",
       "      <th>Fecha_Archivo</th>\n",
       "    </tr>\n",
       "  </thead>\n",
       "  <tbody>\n",
       "    <tr>\n",
       "      <th>0</th>\n",
       "      <td>7743950</td>\n",
       "      <td>20077439502</td>\n",
       "      <td>NaN</td>\n",
       "      <td>NaN</td>\n",
       "      <td>NaN</td>\n",
       "      <td>NaN</td>\n",
       "      <td>NaN</td>\n",
       "      <td>NaN</td>\n",
       "      <td>NaN</td>\n",
       "      <td>NaN</td>\n",
       "      <td>Enriquecimiento cuil_enriquecer_I5_CERTERO_APP...</td>\n",
       "      <td>2024-02-29</td>\n",
       "    </tr>\n",
       "    <tr>\n",
       "      <th>1</th>\n",
       "      <td>11131121</td>\n",
       "      <td>20111311219</td>\n",
       "      <td>0111553112880</td>\n",
       "      <td>NaN</td>\n",
       "      <td>NaN</td>\n",
       "      <td>NaN</td>\n",
       "      <td>NaN</td>\n",
       "      <td>NaN</td>\n",
       "      <td>NaN</td>\n",
       "      <td>NaN</td>\n",
       "      <td>Enriquecimiento cuil_enriquecer_I5_CERTERO_APP...</td>\n",
       "      <td>2024-02-29</td>\n",
       "    </tr>\n",
       "    <tr>\n",
       "      <th>2</th>\n",
       "      <td>23924041</td>\n",
       "      <td>20239240411</td>\n",
       "      <td>0111558004344</td>\n",
       "      <td>0111522737030</td>\n",
       "      <td>0111522737033</td>\n",
       "      <td>0111553164356</td>\n",
       "      <td>NaN</td>\n",
       "      <td>NaN</td>\n",
       "      <td>NaN</td>\n",
       "      <td>NaN</td>\n",
       "      <td>Enriquecimiento cuil_enriquecer_I5_CERTERO_APP...</td>\n",
       "      <td>2024-02-29</td>\n",
       "    </tr>\n",
       "    <tr>\n",
       "      <th>3</th>\n",
       "      <td>16060158</td>\n",
       "      <td>27160601588</td>\n",
       "      <td>0299155761104</td>\n",
       "      <td>0299155383419</td>\n",
       "      <td>0223155376518</td>\n",
       "      <td>0299156538694</td>\n",
       "      <td>02994973090</td>\n",
       "      <td>NaN</td>\n",
       "      <td>NaN</td>\n",
       "      <td>NaN</td>\n",
       "      <td>Enriquecimiento cuil_enriquecer_I5_CERTERO_APP...</td>\n",
       "      <td>2024-02-29</td>\n",
       "    </tr>\n",
       "    <tr>\n",
       "      <th>4</th>\n",
       "      <td>39936540</td>\n",
       "      <td>20399365407</td>\n",
       "      <td>0351152844682</td>\n",
       "      <td>0351155074775</td>\n",
       "      <td>0351152470872</td>\n",
       "      <td>NaN</td>\n",
       "      <td>NaN</td>\n",
       "      <td>NaN</td>\n",
       "      <td>NaN</td>\n",
       "      <td>NaN</td>\n",
       "      <td>Enriquecimiento cuil_enriquecer_I5_CERTERO_APP...</td>\n",
       "      <td>2024-02-29</td>\n",
       "    </tr>\n",
       "    <tr>\n",
       "      <th>...</th>\n",
       "      <td>...</td>\n",
       "      <td>...</td>\n",
       "      <td>...</td>\n",
       "      <td>...</td>\n",
       "      <td>...</td>\n",
       "      <td>...</td>\n",
       "      <td>...</td>\n",
       "      <td>...</td>\n",
       "      <td>...</td>\n",
       "      <td>...</td>\n",
       "      <td>...</td>\n",
       "      <td>...</td>\n",
       "    </tr>\n",
       "    <tr>\n",
       "      <th>2651</th>\n",
       "      <td>12458289</td>\n",
       "      <td>20124582890</td>\n",
       "      <td>0261156220697</td>\n",
       "      <td>0261156223131</td>\n",
       "      <td>0261156693134</td>\n",
       "      <td>0261156258759</td>\n",
       "      <td>NaN</td>\n",
       "      <td>NaN</td>\n",
       "      <td>NaN</td>\n",
       "      <td>NaN</td>\n",
       "      <td>Enriquecimiento cuil_enriquecer_I5_CERTERO_APP...</td>\n",
       "      <td>2024-02-29</td>\n",
       "    </tr>\n",
       "    <tr>\n",
       "      <th>2652</th>\n",
       "      <td>28283600</td>\n",
       "      <td>23282836009</td>\n",
       "      <td>0111559891091</td>\n",
       "      <td>0111528651046</td>\n",
       "      <td>0111539149324</td>\n",
       "      <td>0111539410317</td>\n",
       "      <td>01142364115</td>\n",
       "      <td>NaN</td>\n",
       "      <td>NaN</td>\n",
       "      <td>NaN</td>\n",
       "      <td>Enriquecimiento cuil_enriquecer_I5_CERTERO_APP...</td>\n",
       "      <td>2024-02-29</td>\n",
       "    </tr>\n",
       "    <tr>\n",
       "      <th>2653</th>\n",
       "      <td>28718150</td>\n",
       "      <td>24287181503</td>\n",
       "      <td>0375715513418</td>\n",
       "      <td>NaN</td>\n",
       "      <td>NaN</td>\n",
       "      <td>NaN</td>\n",
       "      <td>03873429802</td>\n",
       "      <td>NaN</td>\n",
       "      <td>NaN</td>\n",
       "      <td>NaN</td>\n",
       "      <td>Enriquecimiento cuil_enriquecer_I5_CERTERO_APP...</td>\n",
       "      <td>2024-02-29</td>\n",
       "    </tr>\n",
       "    <tr>\n",
       "      <th>2654</th>\n",
       "      <td>22418216</td>\n",
       "      <td>20224182164</td>\n",
       "      <td>0264154188810</td>\n",
       "      <td>0293215492545</td>\n",
       "      <td>NaN</td>\n",
       "      <td>NaN</td>\n",
       "      <td>02642644445</td>\n",
       "      <td>NaN</td>\n",
       "      <td>NaN</td>\n",
       "      <td>NaN</td>\n",
       "      <td>Enriquecimiento cuil_enriquecer_I5_CERTERO_APP...</td>\n",
       "      <td>2024-02-29</td>\n",
       "    </tr>\n",
       "    <tr>\n",
       "      <th>2655</th>\n",
       "      <td>18155694</td>\n",
       "      <td>27181556949</td>\n",
       "      <td>0385155395427</td>\n",
       "      <td>NaN</td>\n",
       "      <td>NaN</td>\n",
       "      <td>NaN</td>\n",
       "      <td>03854370984</td>\n",
       "      <td>NaN</td>\n",
       "      <td>NaN</td>\n",
       "      <td>NaN</td>\n",
       "      <td>Enriquecimiento cuil_enriquecer_I5_CERTERO_APP...</td>\n",
       "      <td>2024-02-29</td>\n",
       "    </tr>\n",
       "  </tbody>\n",
       "</table>\n",
       "<p>2656 rows × 12 columns</p>\n",
       "</div>"
      ],
      "text/plain": [
       "      DOCUMENTO         CUIL TELEFONO_CELULAR1 TELEFONO_CELULAR2  \\\n",
       "0       7743950  20077439502               NaN               NaN   \n",
       "1      11131121  20111311219     0111553112880               NaN   \n",
       "2      23924041  20239240411     0111558004344     0111522737030   \n",
       "3      16060158  27160601588     0299155761104     0299155383419   \n",
       "4      39936540  20399365407     0351152844682     0351155074775   \n",
       "...         ...          ...               ...               ...   \n",
       "2651   12458289  20124582890     0261156220697     0261156223131   \n",
       "2652   28283600  23282836009     0111559891091     0111528651046   \n",
       "2653   28718150  24287181503     0375715513418               NaN   \n",
       "2654   22418216  20224182164     0264154188810     0293215492545   \n",
       "2655   18155694  27181556949     0385155395427               NaN   \n",
       "\n",
       "     TELEFONO_CELULAR3 TELEFONO_CELULAR4 TELEFONO_FIJO1 TELEFONO_FIJO2  \\\n",
       "0                  NaN               NaN            NaN            NaN   \n",
       "1                  NaN               NaN            NaN            NaN   \n",
       "2        0111522737033     0111553164356            NaN            NaN   \n",
       "3        0223155376518     0299156538694    02994973090            NaN   \n",
       "4        0351152470872               NaN            NaN            NaN   \n",
       "...                ...               ...            ...            ...   \n",
       "2651     0261156693134     0261156258759            NaN            NaN   \n",
       "2652     0111539149324     0111539410317    01142364115            NaN   \n",
       "2653               NaN               NaN    03873429802            NaN   \n",
       "2654               NaN               NaN    02642644445            NaN   \n",
       "2655               NaN               NaN    03854370984            NaN   \n",
       "\n",
       "     TELEFONO_FIJO3 TELEFONO_FIJO4  \\\n",
       "0               NaN            NaN   \n",
       "1               NaN            NaN   \n",
       "2               NaN            NaN   \n",
       "3               NaN            NaN   \n",
       "4               NaN            NaN   \n",
       "...             ...            ...   \n",
       "2651            NaN            NaN   \n",
       "2652            NaN            NaN   \n",
       "2653            NaN            NaN   \n",
       "2654            NaN            NaN   \n",
       "2655            NaN            NaN   \n",
       "\n",
       "                                                 origen Fecha_Archivo  \n",
       "0     Enriquecimiento cuil_enriquecer_I5_CERTERO_APP...    2024-02-29  \n",
       "1     Enriquecimiento cuil_enriquecer_I5_CERTERO_APP...    2024-02-29  \n",
       "2     Enriquecimiento cuil_enriquecer_I5_CERTERO_APP...    2024-02-29  \n",
       "3     Enriquecimiento cuil_enriquecer_I5_CERTERO_APP...    2024-02-29  \n",
       "4     Enriquecimiento cuil_enriquecer_I5_CERTERO_APP...    2024-02-29  \n",
       "...                                                 ...           ...  \n",
       "2651  Enriquecimiento cuil_enriquecer_I5_CERTERO_APP...    2024-02-29  \n",
       "2652  Enriquecimiento cuil_enriquecer_I5_CERTERO_APP...    2024-02-29  \n",
       "2653  Enriquecimiento cuil_enriquecer_I5_CERTERO_APP...    2024-02-29  \n",
       "2654  Enriquecimiento cuil_enriquecer_I5_CERTERO_APP...    2024-02-29  \n",
       "2655  Enriquecimiento cuil_enriquecer_I5_CERTERO_APP...    2024-02-29  \n",
       "\n",
       "[2656 rows x 12 columns]"
      ]
     },
     "execution_count": 18,
     "metadata": {},
     "output_type": "execute_result"
    }
   ],
   "source": [
    "resumen"
   ]
  },
  {
   "cell_type": "code",
   "execution_count": 19,
   "id": "afe6d261",
   "metadata": {},
   "outputs": [],
   "source": [
    "#resumen['TELEFONO_CELULAR1'].iloc[0:2].tolist()[0][1:]"
   ]
  },
  {
   "cell_type": "code",
   "execution_count": 20,
   "id": "ccbdef3f",
   "metadata": {},
   "outputs": [],
   "source": [
    "#lambda x[1:0] : x.startswith('0') else x"
   ]
  },
  {
   "cell_type": "code",
   "execution_count": null,
   "id": "9febf5f0",
   "metadata": {},
   "outputs": [],
   "source": []
  },
  {
   "cell_type": "code",
   "execution_count": 21,
   "id": "001bfe61",
   "metadata": {},
   "outputs": [],
   "source": [
    "\n",
    "melted_df = resumen.melt(id_vars=['DOCUMENTO','CUIL','origen','Fecha_Archivo'], value_vars=['TELEFONO_CELULAR1','TELEFONO_CELULAR2',\n",
    "                                    'TELEFONO_CELULAR3','TELEFONO_CELULAR4','TELEFONO_FIJO1',\n",
    "                                    'TELEFONO_FIJO2','TELEFONO_FIJO3','TELEFONO_FIJO4'],\n",
    "                    var_name='COLUM_CERTERO', value_name='Telefono')"
   ]
  },
  {
   "cell_type": "code",
   "execution_count": 22,
   "id": "84c0f8b8",
   "metadata": {},
   "outputs": [
    {
     "data": {
      "text/plain": [
       "(21248, 6)"
      ]
     },
     "execution_count": 22,
     "metadata": {},
     "output_type": "execute_result"
    }
   ],
   "source": [
    "melted_df.shape"
   ]
  },
  {
   "cell_type": "code",
   "execution_count": 23,
   "id": "c1b89ebc",
   "metadata": {},
   "outputs": [],
   "source": [
    "melted_df = melted_df[['DOCUMENTO','COLUM_CERTERO','Telefono','CUIL','origen','Fecha_Archivo']]"
   ]
  },
  {
   "cell_type": "code",
   "execution_count": 24,
   "id": "81c22121",
   "metadata": {},
   "outputs": [],
   "source": [
    "melted_df.columns = ['DNI','COLUM_CERTERO','Telefono','CUIL','origen','Fecha_Archivo']"
   ]
  },
  {
   "cell_type": "code",
   "execution_count": 25,
   "id": "40b0895c",
   "metadata": {},
   "outputs": [],
   "source": [
    "melted_df.columns = melted_df.columns.str.upper()"
   ]
  },
  {
   "cell_type": "code",
   "execution_count": 26,
   "id": "532b9745",
   "metadata": {},
   "outputs": [],
   "source": [
    "melted_df = melted_df.sort_values(['DNI','COLUM_CERTERO'])"
   ]
  },
  {
   "cell_type": "code",
   "execution_count": 27,
   "id": "02e43209",
   "metadata": {},
   "outputs": [],
   "source": [
    "melted_df = melted_df.dropna()"
   ]
  },
  {
   "cell_type": "code",
   "execution_count": 28,
   "id": "40c3a53b",
   "metadata": {
    "scrolled": true
   },
   "outputs": [
    {
     "data": {
      "text/html": [
       "<div>\n",
       "<style scoped>\n",
       "    .dataframe tbody tr th:only-of-type {\n",
       "        vertical-align: middle;\n",
       "    }\n",
       "\n",
       "    .dataframe tbody tr th {\n",
       "        vertical-align: top;\n",
       "    }\n",
       "\n",
       "    .dataframe thead th {\n",
       "        text-align: right;\n",
       "    }\n",
       "</style>\n",
       "<table border=\"1\" class=\"dataframe\">\n",
       "  <thead>\n",
       "    <tr style=\"text-align: right;\">\n",
       "      <th></th>\n",
       "      <th>DNI</th>\n",
       "      <th>COLUM_CERTERO</th>\n",
       "      <th>TELEFONO</th>\n",
       "      <th>CUIL</th>\n",
       "      <th>ORIGEN</th>\n",
       "      <th>FECHA_ARCHIVO</th>\n",
       "    </tr>\n",
       "  </thead>\n",
       "  <tbody>\n",
       "    <tr>\n",
       "      <th>281</th>\n",
       "      <td>2633599</td>\n",
       "      <td>TELEFONO_CELULAR1</td>\n",
       "      <td>0358155628995</td>\n",
       "      <td>27026335995</td>\n",
       "      <td>Enriquecimiento cuil_enriquecer_I5_CERTERO_APP...</td>\n",
       "      <td>2024-02-29</td>\n",
       "    </tr>\n",
       "    <tr>\n",
       "      <th>12902</th>\n",
       "      <td>2722756</td>\n",
       "      <td>TELEFONO_FIJO1</td>\n",
       "      <td>03854270270</td>\n",
       "      <td>27027227568</td>\n",
       "      <td>Enriquecimiento cuil_enriquecer_I5_CERTERO_APP...</td>\n",
       "      <td>2024-02-29</td>\n",
       "    </tr>\n",
       "    <tr>\n",
       "      <th>1220</th>\n",
       "      <td>2724146</td>\n",
       "      <td>TELEFONO_CELULAR1</td>\n",
       "      <td>0111523571371</td>\n",
       "      <td>27027241463</td>\n",
       "      <td>Enriquecimiento cuil_enriquecer_I5_CERTERO_APP...</td>\n",
       "      <td>2024-02-29</td>\n",
       "    </tr>\n",
       "    <tr>\n",
       "      <th>11844</th>\n",
       "      <td>2724146</td>\n",
       "      <td>TELEFONO_FIJO1</td>\n",
       "      <td>01147640478</td>\n",
       "      <td>27027241463</td>\n",
       "      <td>Enriquecimiento cuil_enriquecer_I5_CERTERO_APP...</td>\n",
       "      <td>2024-02-29</td>\n",
       "    </tr>\n",
       "    <tr>\n",
       "      <th>1415</th>\n",
       "      <td>3206845</td>\n",
       "      <td>TELEFONO_CELULAR1</td>\n",
       "      <td>0111531131647</td>\n",
       "      <td>27032068451</td>\n",
       "      <td>Enriquecimiento cuil_enriquecer_I5_CERTERO_APP...</td>\n",
       "      <td>2024-02-29</td>\n",
       "    </tr>\n",
       "    <tr>\n",
       "      <th>...</th>\n",
       "      <td>...</td>\n",
       "      <td>...</td>\n",
       "      <td>...</td>\n",
       "      <td>...</td>\n",
       "      <td>...</td>\n",
       "      <td>...</td>\n",
       "    </tr>\n",
       "    <tr>\n",
       "      <th>1414</th>\n",
       "      <td>95739556</td>\n",
       "      <td>TELEFONO_CELULAR1</td>\n",
       "      <td>0249154606355</td>\n",
       "      <td>20957395563</td>\n",
       "      <td>Enriquecimiento cuil_enriquecer_I5_CERTERO_APP...</td>\n",
       "      <td>2024-02-29</td>\n",
       "    </tr>\n",
       "    <tr>\n",
       "      <th>4070</th>\n",
       "      <td>95739556</td>\n",
       "      <td>TELEFONO_CELULAR2</td>\n",
       "      <td>0111528320633</td>\n",
       "      <td>20957395563</td>\n",
       "      <td>Enriquecimiento cuil_enriquecer_I5_CERTERO_APP...</td>\n",
       "      <td>2024-02-29</td>\n",
       "    </tr>\n",
       "    <tr>\n",
       "      <th>6726</th>\n",
       "      <td>95739556</td>\n",
       "      <td>TELEFONO_CELULAR3</td>\n",
       "      <td>0249154495375</td>\n",
       "      <td>20957395563</td>\n",
       "      <td>Enriquecimiento cuil_enriquecer_I5_CERTERO_APP...</td>\n",
       "      <td>2024-02-29</td>\n",
       "    </tr>\n",
       "    <tr>\n",
       "      <th>9382</th>\n",
       "      <td>95739556</td>\n",
       "      <td>TELEFONO_CELULAR4</td>\n",
       "      <td>0249154634983</td>\n",
       "      <td>20957395563</td>\n",
       "      <td>Enriquecimiento cuil_enriquecer_I5_CERTERO_APP...</td>\n",
       "      <td>2024-02-29</td>\n",
       "    </tr>\n",
       "    <tr>\n",
       "      <th>884</th>\n",
       "      <td>95803655</td>\n",
       "      <td>TELEFONO_CELULAR1</td>\n",
       "      <td>0111527718646</td>\n",
       "      <td>27958036553</td>\n",
       "      <td>Enriquecimiento cuil_enriquecer_I5_CERTERO_APP...</td>\n",
       "      <td>2024-02-29</td>\n",
       "    </tr>\n",
       "  </tbody>\n",
       "</table>\n",
       "<p>5894 rows × 6 columns</p>\n",
       "</div>"
      ],
      "text/plain": [
       "            DNI      COLUM_CERTERO       TELEFONO         CUIL  \\\n",
       "281     2633599  TELEFONO_CELULAR1  0358155628995  27026335995   \n",
       "12902   2722756     TELEFONO_FIJO1    03854270270  27027227568   \n",
       "1220    2724146  TELEFONO_CELULAR1  0111523571371  27027241463   \n",
       "11844   2724146     TELEFONO_FIJO1    01147640478  27027241463   \n",
       "1415    3206845  TELEFONO_CELULAR1  0111531131647  27032068451   \n",
       "...         ...                ...            ...          ...   \n",
       "1414   95739556  TELEFONO_CELULAR1  0249154606355  20957395563   \n",
       "4070   95739556  TELEFONO_CELULAR2  0111528320633  20957395563   \n",
       "6726   95739556  TELEFONO_CELULAR3  0249154495375  20957395563   \n",
       "9382   95739556  TELEFONO_CELULAR4  0249154634983  20957395563   \n",
       "884    95803655  TELEFONO_CELULAR1  0111527718646  27958036553   \n",
       "\n",
       "                                                  ORIGEN FECHA_ARCHIVO  \n",
       "281    Enriquecimiento cuil_enriquecer_I5_CERTERO_APP...    2024-02-29  \n",
       "12902  Enriquecimiento cuil_enriquecer_I5_CERTERO_APP...    2024-02-29  \n",
       "1220   Enriquecimiento cuil_enriquecer_I5_CERTERO_APP...    2024-02-29  \n",
       "11844  Enriquecimiento cuil_enriquecer_I5_CERTERO_APP...    2024-02-29  \n",
       "1415   Enriquecimiento cuil_enriquecer_I5_CERTERO_APP...    2024-02-29  \n",
       "...                                                  ...           ...  \n",
       "1414   Enriquecimiento cuil_enriquecer_I5_CERTERO_APP...    2024-02-29  \n",
       "4070   Enriquecimiento cuil_enriquecer_I5_CERTERO_APP...    2024-02-29  \n",
       "6726   Enriquecimiento cuil_enriquecer_I5_CERTERO_APP...    2024-02-29  \n",
       "9382   Enriquecimiento cuil_enriquecer_I5_CERTERO_APP...    2024-02-29  \n",
       "884    Enriquecimiento cuil_enriquecer_I5_CERTERO_APP...    2024-02-29  \n",
       "\n",
       "[5894 rows x 6 columns]"
      ]
     },
     "execution_count": 28,
     "metadata": {},
     "output_type": "execute_result"
    }
   ],
   "source": [
    "melted_df"
   ]
  },
  {
   "cell_type": "code",
   "execution_count": 29,
   "id": "b8e6c42d",
   "metadata": {},
   "outputs": [],
   "source": [
    "melted_df['FECHA_ARCHIVO']=  melted_df['FECHA_ARCHIVO'].apply(pd.to_datetime)#, format='%d/%m/%Y')"
   ]
  },
  {
   "cell_type": "code",
   "execution_count": 30,
   "id": "f052ec4f",
   "metadata": {},
   "outputs": [
    {
     "name": "stdout",
     "output_type": "stream",
     "text": [
      "<class 'pandas.core.frame.DataFrame'>\n",
      "Int64Index: 5894 entries, 281 to 884\n",
      "Data columns (total 6 columns):\n",
      " #   Column         Non-Null Count  Dtype         \n",
      "---  ------         --------------  -----         \n",
      " 0   DNI            5894 non-null   int64         \n",
      " 1   COLUM_CERTERO  5894 non-null   object        \n",
      " 2   TELEFONO       5894 non-null   object        \n",
      " 3   CUIL           5894 non-null   int64         \n",
      " 4   ORIGEN         5894 non-null   object        \n",
      " 5   FECHA_ARCHIVO  5894 non-null   datetime64[ns]\n",
      "dtypes: datetime64[ns](1), int64(2), object(3)\n",
      "memory usage: 322.3+ KB\n"
     ]
    }
   ],
   "source": [
    "melted_df.info()"
   ]
  },
  {
   "cell_type": "code",
   "execution_count": 31,
   "id": "dea4042d",
   "metadata": {},
   "outputs": [
    {
     "data": {
      "text/html": [
       "<div>\n",
       "<style scoped>\n",
       "    .dataframe tbody tr th:only-of-type {\n",
       "        vertical-align: middle;\n",
       "    }\n",
       "\n",
       "    .dataframe tbody tr th {\n",
       "        vertical-align: top;\n",
       "    }\n",
       "\n",
       "    .dataframe thead th {\n",
       "        text-align: right;\n",
       "    }\n",
       "</style>\n",
       "<table border=\"1\" class=\"dataframe\">\n",
       "  <thead>\n",
       "    <tr style=\"text-align: right;\">\n",
       "      <th></th>\n",
       "      <th>DNI</th>\n",
       "      <th>COLUM_CERTERO</th>\n",
       "      <th>TELEFONO</th>\n",
       "      <th>CUIL</th>\n",
       "      <th>ORIGEN</th>\n",
       "      <th>FECHA_ARCHIVO</th>\n",
       "    </tr>\n",
       "  </thead>\n",
       "  <tbody>\n",
       "    <tr>\n",
       "      <th>281</th>\n",
       "      <td>2633599</td>\n",
       "      <td>TELEFONO_CELULAR1</td>\n",
       "      <td>0358155628995</td>\n",
       "      <td>27026335995</td>\n",
       "      <td>Enriquecimiento cuil_enriquecer_I5_CERTERO_APP...</td>\n",
       "      <td>2024-02-29</td>\n",
       "    </tr>\n",
       "    <tr>\n",
       "      <th>12902</th>\n",
       "      <td>2722756</td>\n",
       "      <td>TELEFONO_FIJO1</td>\n",
       "      <td>03854270270</td>\n",
       "      <td>27027227568</td>\n",
       "      <td>Enriquecimiento cuil_enriquecer_I5_CERTERO_APP...</td>\n",
       "      <td>2024-02-29</td>\n",
       "    </tr>\n",
       "    <tr>\n",
       "      <th>1220</th>\n",
       "      <td>2724146</td>\n",
       "      <td>TELEFONO_CELULAR1</td>\n",
       "      <td>0111523571371</td>\n",
       "      <td>27027241463</td>\n",
       "      <td>Enriquecimiento cuil_enriquecer_I5_CERTERO_APP...</td>\n",
       "      <td>2024-02-29</td>\n",
       "    </tr>\n",
       "    <tr>\n",
       "      <th>11844</th>\n",
       "      <td>2724146</td>\n",
       "      <td>TELEFONO_FIJO1</td>\n",
       "      <td>01147640478</td>\n",
       "      <td>27027241463</td>\n",
       "      <td>Enriquecimiento cuil_enriquecer_I5_CERTERO_APP...</td>\n",
       "      <td>2024-02-29</td>\n",
       "    </tr>\n",
       "    <tr>\n",
       "      <th>1415</th>\n",
       "      <td>3206845</td>\n",
       "      <td>TELEFONO_CELULAR1</td>\n",
       "      <td>0111531131647</td>\n",
       "      <td>27032068451</td>\n",
       "      <td>Enriquecimiento cuil_enriquecer_I5_CERTERO_APP...</td>\n",
       "      <td>2024-02-29</td>\n",
       "    </tr>\n",
       "    <tr>\n",
       "      <th>...</th>\n",
       "      <td>...</td>\n",
       "      <td>...</td>\n",
       "      <td>...</td>\n",
       "      <td>...</td>\n",
       "      <td>...</td>\n",
       "      <td>...</td>\n",
       "    </tr>\n",
       "    <tr>\n",
       "      <th>1414</th>\n",
       "      <td>95739556</td>\n",
       "      <td>TELEFONO_CELULAR1</td>\n",
       "      <td>0249154606355</td>\n",
       "      <td>20957395563</td>\n",
       "      <td>Enriquecimiento cuil_enriquecer_I5_CERTERO_APP...</td>\n",
       "      <td>2024-02-29</td>\n",
       "    </tr>\n",
       "    <tr>\n",
       "      <th>4070</th>\n",
       "      <td>95739556</td>\n",
       "      <td>TELEFONO_CELULAR2</td>\n",
       "      <td>0111528320633</td>\n",
       "      <td>20957395563</td>\n",
       "      <td>Enriquecimiento cuil_enriquecer_I5_CERTERO_APP...</td>\n",
       "      <td>2024-02-29</td>\n",
       "    </tr>\n",
       "    <tr>\n",
       "      <th>6726</th>\n",
       "      <td>95739556</td>\n",
       "      <td>TELEFONO_CELULAR3</td>\n",
       "      <td>0249154495375</td>\n",
       "      <td>20957395563</td>\n",
       "      <td>Enriquecimiento cuil_enriquecer_I5_CERTERO_APP...</td>\n",
       "      <td>2024-02-29</td>\n",
       "    </tr>\n",
       "    <tr>\n",
       "      <th>9382</th>\n",
       "      <td>95739556</td>\n",
       "      <td>TELEFONO_CELULAR4</td>\n",
       "      <td>0249154634983</td>\n",
       "      <td>20957395563</td>\n",
       "      <td>Enriquecimiento cuil_enriquecer_I5_CERTERO_APP...</td>\n",
       "      <td>2024-02-29</td>\n",
       "    </tr>\n",
       "    <tr>\n",
       "      <th>884</th>\n",
       "      <td>95803655</td>\n",
       "      <td>TELEFONO_CELULAR1</td>\n",
       "      <td>0111527718646</td>\n",
       "      <td>27958036553</td>\n",
       "      <td>Enriquecimiento cuil_enriquecer_I5_CERTERO_APP...</td>\n",
       "      <td>2024-02-29</td>\n",
       "    </tr>\n",
       "  </tbody>\n",
       "</table>\n",
       "<p>5894 rows × 6 columns</p>\n",
       "</div>"
      ],
      "text/plain": [
       "            DNI      COLUM_CERTERO       TELEFONO         CUIL  \\\n",
       "281     2633599  TELEFONO_CELULAR1  0358155628995  27026335995   \n",
       "12902   2722756     TELEFONO_FIJO1    03854270270  27027227568   \n",
       "1220    2724146  TELEFONO_CELULAR1  0111523571371  27027241463   \n",
       "11844   2724146     TELEFONO_FIJO1    01147640478  27027241463   \n",
       "1415    3206845  TELEFONO_CELULAR1  0111531131647  27032068451   \n",
       "...         ...                ...            ...          ...   \n",
       "1414   95739556  TELEFONO_CELULAR1  0249154606355  20957395563   \n",
       "4070   95739556  TELEFONO_CELULAR2  0111528320633  20957395563   \n",
       "6726   95739556  TELEFONO_CELULAR3  0249154495375  20957395563   \n",
       "9382   95739556  TELEFONO_CELULAR4  0249154634983  20957395563   \n",
       "884    95803655  TELEFONO_CELULAR1  0111527718646  27958036553   \n",
       "\n",
       "                                                  ORIGEN FECHA_ARCHIVO  \n",
       "281    Enriquecimiento cuil_enriquecer_I5_CERTERO_APP...    2024-02-29  \n",
       "12902  Enriquecimiento cuil_enriquecer_I5_CERTERO_APP...    2024-02-29  \n",
       "1220   Enriquecimiento cuil_enriquecer_I5_CERTERO_APP...    2024-02-29  \n",
       "11844  Enriquecimiento cuil_enriquecer_I5_CERTERO_APP...    2024-02-29  \n",
       "1415   Enriquecimiento cuil_enriquecer_I5_CERTERO_APP...    2024-02-29  \n",
       "...                                                  ...           ...  \n",
       "1414   Enriquecimiento cuil_enriquecer_I5_CERTERO_APP...    2024-02-29  \n",
       "4070   Enriquecimiento cuil_enriquecer_I5_CERTERO_APP...    2024-02-29  \n",
       "6726   Enriquecimiento cuil_enriquecer_I5_CERTERO_APP...    2024-02-29  \n",
       "9382   Enriquecimiento cuil_enriquecer_I5_CERTERO_APP...    2024-02-29  \n",
       "884    Enriquecimiento cuil_enriquecer_I5_CERTERO_APP...    2024-02-29  \n",
       "\n",
       "[5894 rows x 6 columns]"
      ]
     },
     "execution_count": 31,
     "metadata": {},
     "output_type": "execute_result"
    }
   ],
   "source": [
    "melted_df"
   ]
  },
  {
   "cell_type": "code",
   "execution_count": null,
   "id": "68dc2f46",
   "metadata": {},
   "outputs": [],
   "source": []
  },
  {
   "cell_type": "code",
   "execution_count": 32,
   "id": "e6ed1bf5",
   "metadata": {},
   "outputs": [],
   "source": [
    "melted_df.to_csv('C:/Users/Usuario/Proyectos_Anaconda/WORK LR/ARCHIVOS_ZIP/enriquecimiento_telefonos_certero_20240229_1.csv', index = False)"
   ]
  },
  {
   "cell_type": "code",
   "execution_count": null,
   "id": "a6c57066",
   "metadata": {},
   "outputs": [],
   "source": []
  }
 ],
 "metadata": {
  "kernelspec": {
   "display_name": "Python 3 (ipykernel)",
   "language": "python",
   "name": "python3"
  },
  "language_info": {
   "codemirror_mode": {
    "name": "ipython",
    "version": 3
   },
   "file_extension": ".py",
   "mimetype": "text/x-python",
   "name": "python",
   "nbconvert_exporter": "python",
   "pygments_lexer": "ipython3",
   "version": "3.10.9"
  }
 },
 "nbformat": 4,
 "nbformat_minor": 5
}
