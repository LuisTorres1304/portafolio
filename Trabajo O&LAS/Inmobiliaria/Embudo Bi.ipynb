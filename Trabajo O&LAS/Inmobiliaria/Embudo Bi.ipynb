{
 "cells": [
  {
   "cell_type": "code",
   "execution_count": 1,
   "id": "76269ab9",
   "metadata": {},
   "outputs": [],
   "source": [
    "import numpy as np\n",
    "import pandas as pd\n",
    "pd.set_option('display.max_columns', None)\n",
    "import matplotlib.pyplot as plt\n",
    "import seaborn as sns\n",
    "\n",
    "%matplotlib inline\n",
    "pd.options.display.max_colwidth = 200"
   ]
  },
  {
   "cell_type": "code",
   "execution_count": 2,
   "id": "0a420e0d",
   "metadata": {},
   "outputs": [],
   "source": [
    "cmr=  pd.read_excel('Mayo 02_2023/Reporte_Cmr.xlsx', parse_dates= ['FECHA DE REGISTRO','HORA DE REGISTRO','FECHA DE ULTIMA INTERACION'])"
   ]
  },
  {
   "cell_type": "code",
   "execution_count": 3,
   "id": "9c86da4f",
   "metadata": {},
   "outputs": [
    {
     "data": {
      "text/plain": [
       "Index(['FECHA DE REGISTRO', 'HORA DE REGISTRO', 'VENDEDORES', 'ORIGEN',\n",
       "       'DIRECCION', 'QUE BUSCA', 'TIPO LOTES', 'PRECIOS', 'OBSERVACION',\n",
       "       'HORARIO DISPONIBLE', 'nom', 'ape', 'CLIENTE', 'DNI', 'TELEFONO',\n",
       "       'NIVEL DE INTERES', 'NOMBRE PROXIMO EVENTO', 'FECHA PROXIMO EVENTO',\n",
       "       'FECHA DE ULTIMA INTERACION'],\n",
       "      dtype='object')"
      ]
     },
     "execution_count": 3,
     "metadata": {},
     "output_type": "execute_result"
    }
   ],
   "source": [
    "cmr.columns"
   ]
  },
  {
   "cell_type": "code",
   "execution_count": 4,
   "id": "50eb3f2f",
   "metadata": {},
   "outputs": [
    {
     "data": {
      "text/plain": [
       "17732"
      ]
     },
     "execution_count": 4,
     "metadata": {},
     "output_type": "execute_result"
    }
   ],
   "source": [
    "cmr.shape[0]"
   ]
  },
  {
   "cell_type": "code",
   "execution_count": 5,
   "id": "f5ee08db",
   "metadata": {},
   "outputs": [],
   "source": [
    "cmr['CLIENTE'] = cmr['CLIENTE'].str.strip().str.upper()"
   ]
  },
  {
   "cell_type": "code",
   "execution_count": 6,
   "id": "5484f5c0",
   "metadata": {},
   "outputs": [],
   "source": [
    "cmr['CLIENTE'] = cmr['CLIENTE'].str.replace('    ',' ')\n",
    "cmr['CLIENTE'] = cmr['CLIENTE'].str.replace('   ',' ')\n",
    "cmr['CLIENTE'] = cmr['CLIENTE'].str.replace('  ',' ')"
   ]
  },
  {
   "cell_type": "code",
   "execution_count": 7,
   "id": "be5b066a",
   "metadata": {},
   "outputs": [
    {
     "name": "stdout",
     "output_type": "stream",
     "text": [
      "<class 'pandas.core.frame.DataFrame'>\n",
      "RangeIndex: 17732 entries, 0 to 17731\n",
      "Data columns (total 19 columns):\n",
      " #   Column                      Non-Null Count  Dtype         \n",
      "---  ------                      --------------  -----         \n",
      " 0   FECHA DE REGISTRO           17732 non-null  datetime64[ns]\n",
      " 1   HORA DE REGISTRO            8092 non-null   datetime64[ns]\n",
      " 2   VENDEDORES                  17719 non-null  object        \n",
      " 3   ORIGEN                      17732 non-null  object        \n",
      " 4   DIRECCION                   148 non-null    object        \n",
      " 5   QUE BUSCA                   47 non-null     object        \n",
      " 6   TIPO LOTES                  70 non-null     object        \n",
      " 7   PRECIOS                     70 non-null     object        \n",
      " 8   OBSERVACION                 8508 non-null   object        \n",
      " 9   HORARIO DISPONIBLE          501 non-null    object        \n",
      " 10  nom                         17725 non-null  object        \n",
      " 11  ape                         17140 non-null  object        \n",
      " 12  CLIENTE                     17732 non-null  object        \n",
      " 13  DNI                         9137 non-null   object        \n",
      " 14  TELEFONO                    17725 non-null  object        \n",
      " 15  NIVEL DE INTERES            15981 non-null  object        \n",
      " 16  NOMBRE PROXIMO EVENTO       5531 non-null   object        \n",
      " 17  FECHA PROXIMO EVENTO        5531 non-null   object        \n",
      " 18  FECHA DE ULTIMA INTERACION  17718 non-null  datetime64[ns]\n",
      "dtypes: datetime64[ns](3), object(16)\n",
      "memory usage: 2.6+ MB\n"
     ]
    }
   ],
   "source": [
    "cmr.info()"
   ]
  },
  {
   "cell_type": "code",
   "execution_count": 8,
   "id": "9ff8ad90",
   "metadata": {},
   "outputs": [],
   "source": [
    "cmr_b = cmr[['FECHA DE REGISTRO','VENDEDORES','ORIGEN','OBSERVACION','CLIENTE','DNI','TELEFONO','NIVEL DE INTERES','NOMBRE PROXIMO EVENTO']]"
   ]
  },
  {
   "cell_type": "code",
   "execution_count": 9,
   "id": "6f203119",
   "metadata": {},
   "outputs": [
    {
     "name": "stderr",
     "output_type": "stream",
     "text": [
      "C:\\Users\\ASUS\\AppData\\Local\\Temp\\ipykernel_12532\\726015351.py:1: SettingWithCopyWarning: \n",
      "A value is trying to be set on a copy of a slice from a DataFrame.\n",
      "Try using .loc[row_indexer,col_indexer] = value instead\n",
      "\n",
      "See the caveats in the documentation: https://pandas.pydata.org/pandas-docs/stable/user_guide/indexing.html#returning-a-view-versus-a-copy\n",
      "  cmr_b['CLIENTE'] = cmr_b['CLIENTE'].str.replace('EMMA ROSA DE LOS MILAGROS PIEDRA MAZA','ENMA ROSA DE LOS MILAGROS PIEDRA MAZA')\n"
     ]
    }
   ],
   "source": [
    "cmr_b['CLIENTE'] = cmr_b['CLIENTE'].str.replace('EMMA ROSA DE LOS MILAGROS PIEDRA MAZA','ENMA ROSA DE LOS MILAGROS PIEDRA MAZA')"
   ]
  },
  {
   "cell_type": "code",
   "execution_count": 10,
   "id": "465b0c39",
   "metadata": {
    "scrolled": true
   },
   "outputs": [],
   "source": [
    "cmr_JB = cmr_b.drop_duplicates(subset=['CLIENTE'])\n"
   ]
  },
  {
   "cell_type": "code",
   "execution_count": 11,
   "id": "49a42355",
   "metadata": {},
   "outputs": [
    {
     "data": {
      "text/plain": [
       "1727"
      ]
     },
     "execution_count": 11,
     "metadata": {},
     "output_type": "execute_result"
    }
   ],
   "source": [
    "cmr_JB['NIVEL DE INTERES'].isnull().sum()"
   ]
  },
  {
   "cell_type": "code",
   "execution_count": 12,
   "id": "4a293def",
   "metadata": {},
   "outputs": [],
   "source": [
    "#cmr_JB.to_excel('Embudo.xlsx',index= False)"
   ]
  },
  {
   "cell_type": "code",
   "execution_count": null,
   "id": "4c536d25",
   "metadata": {},
   "outputs": [],
   "source": []
  }
 ],
 "metadata": {
  "kernelspec": {
   "display_name": "Python 3 (ipykernel)",
   "language": "python",
   "name": "python3"
  },
  "language_info": {
   "codemirror_mode": {
    "name": "ipython",
    "version": 3
   },
   "file_extension": ".py",
   "mimetype": "text/x-python",
   "name": "python",
   "nbconvert_exporter": "python",
   "pygments_lexer": "ipython3",
   "version": "3.9.13"
  }
 },
 "nbformat": 4,
 "nbformat_minor": 5
}
